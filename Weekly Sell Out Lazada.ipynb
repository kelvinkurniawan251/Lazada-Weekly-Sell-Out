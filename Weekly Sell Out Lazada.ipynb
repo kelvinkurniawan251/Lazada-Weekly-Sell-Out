{
 "cells": [
  {
   "cell_type": "code",
   "execution_count": 2,
   "id": "7fe17f00",
   "metadata": {},
   "outputs": [],
   "source": [
    "import pandas as pd\n",
    "import openpyxl\n",
    "from openpyxl import load_workbook\n",
    "from openpyxl.drawing.image import Image\n",
    "from IPython.display import FileLink\n",
    "import warnings\n",
    "import numpy as np\n",
    "import matplotlib.pyplot as plt\n",
    "warnings.simplefilter(\"ignore\")\n",
    "pd.options.display.max_columns = None\n",
    "pd.options.display.max_rows = None"
   ]
  },
  {
   "cell_type": "code",
   "execution_count": 1,
   "id": "dbfce2f4",
   "metadata": {},
   "outputs": [],
   "source": [
    "#deldata and update after processing [FINISH LATER] -> done"
   ]
  },
  {
   "cell_type": "code",
   "execution_count": null,
   "id": "eccbf442",
   "metadata": {},
   "outputs": [],
   "source": [
    "delData = openpyxl.load_workbook('PO Lazada x ULI Template Processing.xlsx')"
   ]
  },
  {
   "cell_type": "code",
   "execution_count": null,
   "id": "162d0992",
   "metadata": {},
   "outputs": [],
   "source": [
    "sheetPH = delData['Product Hierarchy']\n",
    "delData.remove(sheetPH)"
   ]
  },
  {
   "cell_type": "code",
   "execution_count": null,
   "id": "080fa302",
   "metadata": {},
   "outputs": [],
   "source": [
    "sheetPO = delData['SKU List of Purchase Order For ']\n",
    "delData.remove(sheetPO)"
   ]
  },
  {
   "cell_type": "code",
   "execution_count": null,
   "id": "3b896244",
   "metadata": {
    "scrolled": true
   },
   "outputs": [],
   "source": [
    "sheetPricelistLAZ = delData['Updated Pricelist (LAZ SKU UPDA']\n",
    "delData.remove(sheetPricelistLAZ)"
   ]
  },
  {
   "cell_type": "code",
   "execution_count": null,
   "id": "0b5ba9ba",
   "metadata": {},
   "outputs": [],
   "source": [
    "sheetPC = delData['PC Mapping']\n",
    "delData.remove(sheetPC)"
   ]
  },
  {
   "cell_type": "code",
   "execution_count": null,
   "id": "2060c0f8",
   "metadata": {},
   "outputs": [],
   "source": [
    "sheetStock = delData['ANDROMEDA']\n",
    "delData.remove(sheetStock)"
   ]
  },
  {
   "cell_type": "code",
   "execution_count": null,
   "id": "465e4725",
   "metadata": {},
   "outputs": [],
   "source": [
    "sheetProses = delData['proses']\n",
    "delData.remove(sheetProses)"
   ]
  },
  {
   "cell_type": "code",
   "execution_count": null,
   "id": "991f7240",
   "metadata": {},
   "outputs": [],
   "source": [
    "delData.save('PO Lazada x ULI Template Processing.xlsx')"
   ]
  },
  {
   "cell_type": "code",
   "execution_count": null,
   "id": "b093e85b",
   "metadata": {},
   "outputs": [],
   "source": [
    "#define master data (PRICELIST ULI & PRODUCT HIERARCHY)"
   ]
  },
  {
   "cell_type": "code",
   "execution_count": null,
   "id": "0a7da357",
   "metadata": {},
   "outputs": [],
   "source": [
    "#define PO Detail LAZADA"
   ]
  },
  {
   "cell_type": "code",
   "execution_count": null,
   "id": "feb1957a",
   "metadata": {},
   "outputs": [],
   "source": [
    "POdetail = pd.read_excel('Unilever - Lazada Weekly Sell Out 2022-2023_RAW.xlsx', sheet_name='Sheet1')"
   ]
  },
  {
   "cell_type": "code",
   "execution_count": null,
   "id": "74c9936b",
   "metadata": {
    "scrolled": false
   },
   "outputs": [],
   "source": [
    "POdetail.head()"
   ]
  },
  {
   "cell_type": "code",
   "execution_count": null,
   "id": "6d25ae25",
   "metadata": {},
   "outputs": [],
   "source": [
    "POdetail = POdetail.drop(columns=['pc1'])"
   ]
  },
  {
   "cell_type": "code",
   "execution_count": null,
   "id": "f1c5f3df",
   "metadata": {},
   "outputs": [],
   "source": [
    "POdetail.head()"
   ]
  },
  {
   "cell_type": "code",
   "execution_count": null,
   "id": "83cb123d",
   "metadata": {
    "scrolled": true
   },
   "outputs": [],
   "source": [
    "with pd.ExcelWriter('PO Lazada x ULI Template Processing.xlsx', mode='a', engine='openpyxl') as writer:\n",
    "    POdetail.to_excel(writer, sheet_name='SKU List of Purchase Order For ', index=False)"
   ]
  },
  {
   "cell_type": "code",
   "execution_count": null,
   "id": "d6aedc92",
   "metadata": {},
   "outputs": [],
   "source": [
    "#define laz ecatalogue"
   ]
  },
  {
   "cell_type": "code",
   "execution_count": null,
   "id": "3189834f",
   "metadata": {},
   "outputs": [],
   "source": [
    "Laz_ecatalog = pd.read_excel('Lazada Catalog.xlsx', sheet_name='Sheet1')"
   ]
  },
  {
   "cell_type": "code",
   "execution_count": null,
   "id": "3dfa78bd",
   "metadata": {},
   "outputs": [],
   "source": [
    "Laz_ecatalog.head()"
   ]
  },
  {
   "cell_type": "code",
   "execution_count": null,
   "id": "c4d4b146",
   "metadata": {},
   "outputs": [],
   "source": [
    "with pd.ExcelWriter('PO Lazada x ULI Template Processing.xlsx', mode='a', engine='openpyxl') as writer:\n",
    "    Laz_ecatalog.to_excel(writer, sheet_name='Updated Pricelist (LAZ SKU UPDA', index=False)"
   ]
  },
  {
   "cell_type": "code",
   "execution_count": null,
   "id": "7a3c032f",
   "metadata": {},
   "outputs": [],
   "source": []
  },
  {
   "cell_type": "code",
   "execution_count": null,
   "id": "4bc14e1b",
   "metadata": {},
   "outputs": [],
   "source": [
    "ProductHierarchy = pd.read_excel('Product Hierarchy.xlsx', sheet_name='ID PH')"
   ]
  },
  {
   "cell_type": "code",
   "execution_count": null,
   "id": "10dbc218",
   "metadata": {},
   "outputs": [],
   "source": [
    "ProductHierarchy.head()"
   ]
  },
  {
   "cell_type": "code",
   "execution_count": null,
   "id": "3e066729",
   "metadata": {},
   "outputs": [],
   "source": [
    "with pd.ExcelWriter('PO Lazada x ULI Template Processing.xlsx', mode='a', engine='openpyxl') as writer:\n",
    "    ProductHierarchy.to_excel(writer, sheet_name='Product Hierarchy', index=False)"
   ]
  },
  {
   "cell_type": "code",
   "execution_count": null,
   "id": "42edfb82",
   "metadata": {},
   "outputs": [],
   "source": []
  },
  {
   "cell_type": "code",
   "execution_count": null,
   "id": "1718d2f8",
   "metadata": {},
   "outputs": [],
   "source": [
    "file_processing = 'PO Lazada x ULI Template Processing.xlsx'"
   ]
  },
  {
   "cell_type": "code",
   "execution_count": null,
   "id": "aa4685a6",
   "metadata": {},
   "outputs": [],
   "source": []
  },
  {
   "cell_type": "code",
   "execution_count": null,
   "id": "0b47e763",
   "metadata": {},
   "outputs": [],
   "source": [
    "df = pd.read_excel(file_processing, sheet_name='SKU List of Purchase Order For ')"
   ]
  },
  {
   "cell_type": "code",
   "execution_count": null,
   "id": "7d37f725",
   "metadata": {},
   "outputs": [],
   "source": [
    "#merger & pisah per bundle"
   ]
  },
  {
   "cell_type": "code",
   "execution_count": null,
   "id": "21139854",
   "metadata": {},
   "outputs": [],
   "source": [
    "df_PC = pd.read_excel(file_processing, sheet_name='Updated Pricelist (LAZ SKU UPDA', usecols=['SKU', 'PC Code', 'Multiplier', 'pc1', 'qty1', 'pc2', 'qty2', 'pc3', 'qty3', 'pc4', 'qty4'])"
   ]
  },
  {
   "cell_type": "code",
   "execution_count": null,
   "id": "a2a2cbd3",
   "metadata": {},
   "outputs": [],
   "source": [
    "df = pd.merge(left=df, right=df_PC, how='left', left_on='SKU', right_on='SKU')"
   ]
  },
  {
   "cell_type": "code",
   "execution_count": null,
   "id": "1569a5c9",
   "metadata": {
    "scrolled": true
   },
   "outputs": [],
   "source": [
    "df.head()"
   ]
  },
  {
   "cell_type": "code",
   "execution_count": null,
   "id": "83e747c5",
   "metadata": {},
   "outputs": [],
   "source": [
    "total_rows = df.shape[0]\n",
    "print(total_rows)"
   ]
  },
  {
   "cell_type": "code",
   "execution_count": null,
   "id": "3bfc9836",
   "metadata": {},
   "outputs": [],
   "source": [
    "#!!!!!"
   ]
  },
  {
   "cell_type": "code",
   "execution_count": null,
   "id": "caae3d84",
   "metadata": {},
   "outputs": [],
   "source": [
    "if df['PC Code'].astype(str).str.contains('-', na=False).any():\n",
    "    # Membuat DataFrame baru untuk data bundle\n",
    "    df_bundle = df[df['PC Code'].astype(str).str.contains('-', na=False)].copy()\n",
    "    df_bundle['PC Code'] = df_bundle['PC Code'].astype(str)\n",
    "\n",
    "    \n",
    "    \n",
    "    # Delete data bundle dari DataFrame asli\n",
    "    df = df[~df['PC Code'].astype(str).str.contains('-', na=False)].copy()"
   ]
  },
  {
   "cell_type": "code",
   "execution_count": null,
   "id": "70c08eb5",
   "metadata": {},
   "outputs": [],
   "source": [
    "#pisahkan bundle ke baris baru untuk masing masing PC code -> DONE"
   ]
  },
  {
   "cell_type": "code",
   "execution_count": null,
   "id": "419b41c1",
   "metadata": {},
   "outputs": [],
   "source": [
    "df.dtypes"
   ]
  },
  {
   "cell_type": "code",
   "execution_count": null,
   "id": "f67ff38b",
   "metadata": {},
   "outputs": [],
   "source": [
    "if 'df_bundle' in locals():\n",
    "    df_bundle['PC Code'] = df_bundle['PC Code'].astype(str)"
   ]
  },
  {
   "cell_type": "code",
   "execution_count": null,
   "id": "190811f2",
   "metadata": {},
   "outputs": [],
   "source": [
    "if 'df_bundle' in locals():\n",
    "    df_bundle['PC Code Original'] = df_bundle['PC Code']"
   ]
  },
  {
   "cell_type": "code",
   "execution_count": null,
   "id": "740fa4d2",
   "metadata": {},
   "outputs": [],
   "source": [
    "if 'df_bundle' in locals():\n",
    "    df_bundle = (df_bundle.assign(PC_Code=df_bundle['PC Code'].str.split('-'))\n",
    "                 .explode('PC Code')\n",
    "                 .reset_index(drop=True))"
   ]
  },
  {
   "cell_type": "code",
   "execution_count": null,
   "id": "2f8e2d97",
   "metadata": {},
   "outputs": [],
   "source": [
    "df_bundle.head()"
   ]
  },
  {
   "cell_type": "code",
   "execution_count": null,
   "id": "cadf17c6",
   "metadata": {},
   "outputs": [],
   "source": [
    "if 'df_bundle' in locals():\n",
    "    df_bundle = (df_bundle.set_index(['DATE', 'SKU', 'PRODUCT NAME', 'BRAND', 'GROUP COMPANY', 'COMMERCIAL CATEGORY', 'ITEM SOLD', 'YEAR', 'SKU UNILEVER CODE', 'pc1', 'qty1', 'pc2', 'qty2', 'pc3', 'qty3', 'pc4', 'qty4', 'Multiplier', 'PC Code Original'], append=True)\n",
    "                 ['PC Code']\n",
    "                 .str.split('-', expand=True)\n",
    "                 .stack()\n",
    "                 .reset_index(level=0, drop=True)\n",
    "                 .reset_index(name='PC Code'))"
   ]
  },
  {
   "cell_type": "code",
   "execution_count": null,
   "id": "a1a32b5e",
   "metadata": {},
   "outputs": [],
   "source": [
    "#mapping pc on qty then input on multiplier"
   ]
  },
  {
   "cell_type": "code",
   "execution_count": null,
   "id": "0e2b417a",
   "metadata": {},
   "outputs": [],
   "source": [
    "if 'df_bundle' in locals():\n",
    "    # Create an empty dictionary to store the mapping\n",
    "    mapping_dict = {}\n",
    "\n",
    "    # Iterate over each row in the DataFrame\n",
    "    for index, row in df_bundle.iterrows():\n",
    "        pc_code = row['PC Code']\n",
    "        qty_columns = ['qty1', 'qty2', 'qty3', 'qty4']\n",
    "        pc_columns = ['pc1', 'pc2', 'pc3', 'pc4']\n",
    "\n",
    "        # Iterate over pc_columns and qty_columns simultaneously\n",
    "        for pc_col, qty_col in zip(pc_columns, qty_columns):\n",
    "            if pc_col in row and not pd.isna(row[pc_col]):\n",
    "                sku_pc_code = f\"{row[pc_col]}-{row['PC Code']}\"\n",
    "                if sku_pc_code not in mapping_dict:\n",
    "                    mapping_dict[sku_pc_code] = row[qty_col]\n",
    "                else:\n",
    "                    mapping_dict[sku_pc_code] = max(mapping_dict[sku_pc_code], row[qty_col])\n",
    "\n",
    "    # Update the Multiplier column based on the mapping\n",
    "    df_bundle['Multiplier'] = df_bundle.apply(lambda row: mapping_dict.get(f\"{row['pc1']}-{row['PC Code']}\"), axis=1)\n"
   ]
  },
  {
   "cell_type": "code",
   "execution_count": null,
   "id": "9a902411",
   "metadata": {},
   "outputs": [],
   "source": [
    "if 'df_bundle' in locals():\n",
    "    display(df_bundle)\n",
    "    \n",
    "    #MULTIPLIER JADI 2?"
   ]
  },
  {
   "cell_type": "code",
   "execution_count": null,
   "id": "3eb338b5",
   "metadata": {},
   "outputs": [],
   "source": [
    "if 'df_bundle' in locals():\n",
    "    df = pd.concat([df, df_bundle], ignore_index=True)"
   ]
  },
  {
   "cell_type": "code",
   "execution_count": null,
   "id": "8ba70e89",
   "metadata": {},
   "outputs": [],
   "source": [
    "delisted_data = df.loc[df['PC Code'] == 'DELISTED', 'PC Code']\n",
    "delisted_data"
   ]
  },
  {
   "cell_type": "code",
   "execution_count": null,
   "id": "675eea8c",
   "metadata": {},
   "outputs": [],
   "source": [
    "def replace_delisted_with_pc1(row):\n",
    "    if row['PC Code'] == 'DELISTED':\n",
    "        return row['pc1']\n",
    "    else:\n",
    "        return row['PC Code']\n",
    "\n",
    "df['PC Code'] = df.apply(replace_delisted_with_pc1, axis=1)"
   ]
  },
  {
   "cell_type": "code",
   "execution_count": null,
   "id": "b58248af",
   "metadata": {},
   "outputs": [],
   "source": [
    "if all(col in df.columns for col in ['pc1', 'qty1', 'pc2', 'qty2', 'pc3', 'qty3', 'pc4', 'qty4']):\n",
    "    df = df.drop(['pc1', 'qty1', 'pc2', 'qty2', 'pc3', 'qty3', 'pc4', 'qty4'], axis=1)\n",
    "\n",
    "df.head()"
   ]
  },
  {
   "cell_type": "code",
   "execution_count": null,
   "id": "17e7c403",
   "metadata": {},
   "outputs": [],
   "source": [
    "#column final qty"
   ]
  },
  {
   "cell_type": "code",
   "execution_count": null,
   "id": "32082da9",
   "metadata": {},
   "outputs": [],
   "source": [
    "df['Multiplier'] = pd.to_numeric(df['Multiplier'], errors='coerce')"
   ]
  },
  {
   "cell_type": "code",
   "execution_count": null,
   "id": "2ea59a59",
   "metadata": {
    "scrolled": false
   },
   "outputs": [],
   "source": [
    "df.dtypes"
   ]
  },
  {
   "cell_type": "code",
   "execution_count": null,
   "id": "486957d9",
   "metadata": {},
   "outputs": [],
   "source": [
    "df['Final Order Qty (pcs)'] = df['ITEM SOLD'] * df['Multiplier']"
   ]
  },
  {
   "cell_type": "code",
   "execution_count": null,
   "id": "b61fb1e3",
   "metadata": {
    "scrolled": true
   },
   "outputs": [],
   "source": [
    "df.head()"
   ]
  },
  {
   "cell_type": "code",
   "execution_count": null,
   "id": "6ac7a99b",
   "metadata": {},
   "outputs": [],
   "source": []
  },
  {
   "cell_type": "code",
   "execution_count": null,
   "id": "bade2480",
   "metadata": {},
   "outputs": [],
   "source": [
    "df_ProductHierarchy = pd.read_excel(file_processing, sheet_name='Product Hierarchy', usecols=['ULI Product Hierarchy', 'Unnamed: 1', 'Unnamed: 3', 'Unnamed: 46', 'Unnamed: 50'])"
   ]
  },
  {
   "cell_type": "code",
   "execution_count": null,
   "id": "9571e7b7",
   "metadata": {},
   "outputs": [],
   "source": [
    "df_ProductHierarchy.head()"
   ]
  },
  {
   "cell_type": "code",
   "execution_count": null,
   "id": "9e35e9c7",
   "metadata": {},
   "outputs": [],
   "source": [
    "df_ProductHierarchy.dtypes"
   ]
  },
  {
   "cell_type": "code",
   "execution_count": null,
   "id": "9f57600c",
   "metadata": {},
   "outputs": [],
   "source": [
    "df['PC Code'] = df['PC Code'].astype(str)\n",
    "df_ProductHierarchy['ULI Product Hierarchy'] = df_ProductHierarchy['ULI Product Hierarchy'].astype(str)"
   ]
  },
  {
   "cell_type": "code",
   "execution_count": null,
   "id": "20e9c0cd",
   "metadata": {},
   "outputs": [],
   "source": [
    "df = pd.merge(left=df, right=df_ProductHierarchy, how='left', left_on='PC Code', right_on='ULI Product Hierarchy')"
   ]
  },
  {
   "cell_type": "code",
   "execution_count": null,
   "id": "65203848",
   "metadata": {},
   "outputs": [],
   "source": []
  },
  {
   "cell_type": "code",
   "execution_count": null,
   "id": "69b0d2fa",
   "metadata": {
    "scrolled": true
   },
   "outputs": [],
   "source": [
    "df.head(100)"
   ]
  },
  {
   "cell_type": "code",
   "execution_count": null,
   "id": "50e087c5",
   "metadata": {},
   "outputs": [],
   "source": [
    "df = df.rename(columns={'Unnamed: 1_y': 'SKU Unilever Description', 'Unnamed: 3_y': 'PC/Cs', 'Unnamed: 46_y': 'Category', 'Unnamed: 50_y': 'Division' })"
   ]
  },
  {
   "cell_type": "code",
   "execution_count": null,
   "id": "6bea5e89",
   "metadata": {},
   "outputs": [],
   "source": [
    "df = df.drop(columns=['ULI Product Hierarchy_x', 'Unnamed: 1_x', 'Unnamed: 3_x', 'Unnamed: 46_x', 'Unnamed: 50_x', 'ULI Product Hierarchy_y'])"
   ]
  },
  {
   "cell_type": "code",
   "execution_count": null,
   "id": "9a346675",
   "metadata": {},
   "outputs": [],
   "source": [
    "df.dtypes"
   ]
  },
  {
   "cell_type": "code",
   "execution_count": null,
   "id": "c5bee2bf",
   "metadata": {},
   "outputs": [],
   "source": [
    "df['PC/Cs'] = df['PC/Cs'].astype(float)"
   ]
  },
  {
   "cell_type": "code",
   "execution_count": null,
   "id": "a346dc09",
   "metadata": {},
   "outputs": [],
   "source": [
    "df['Final Qty in CS'] = df.apply(lambda row: row['Final Order Qty (pcs)'] / row['PC/Cs'], axis=1)"
   ]
  },
  {
   "cell_type": "code",
   "execution_count": null,
   "id": "2b1ee378",
   "metadata": {
    "scrolled": true
   },
   "outputs": [],
   "source": [
    "df.head()"
   ]
  },
  {
   "cell_type": "code",
   "execution_count": null,
   "id": "ab406def",
   "metadata": {},
   "outputs": [],
   "source": [
    "df = df.drop(columns=['SKU UNILEVER CODE'])"
   ]
  },
  {
   "cell_type": "code",
   "execution_count": null,
   "id": "dd19868c",
   "metadata": {},
   "outputs": [],
   "source": [
    "df.to_excel('24D3_Lazada Weekly Sell Out.xlsx', sheet_name='Result', index=False)"
   ]
  },
  {
   "cell_type": "code",
   "execution_count": null,
   "id": "7922b588",
   "metadata": {},
   "outputs": [],
   "source": [
    "FileLink('24D3_Lazada Weekly Sell Out.xlsx')"
   ]
  },
  {
   "cell_type": "code",
   "execution_count": null,
   "id": "7ce6df77",
   "metadata": {},
   "outputs": [],
   "source": []
  }
 ],
 "metadata": {
  "kernelspec": {
   "display_name": "Python 3 (ipykernel)",
   "language": "python",
   "name": "python3"
  },
  "language_info": {
   "codemirror_mode": {
    "name": "ipython",
    "version": 3
   },
   "file_extension": ".py",
   "mimetype": "text/x-python",
   "name": "python",
   "nbconvert_exporter": "python",
   "pygments_lexer": "ipython3",
   "version": "3.9.13"
  }
 },
 "nbformat": 4,
 "nbformat_minor": 5
}
